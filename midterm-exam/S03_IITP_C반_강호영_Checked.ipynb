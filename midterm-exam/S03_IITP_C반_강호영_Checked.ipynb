{
 "cells": [
  {
   "cell_type": "markdown",
   "metadata": {},
   "source": [
    "# IITP18 Midterm Exam in MultiCampus"
   ]
  },
  {
   "cell_type": "markdown",
   "metadata": {},
   "source": [
    "## 제출자 : 강호영\n",
    "<hr>"
   ]
  },
  {
   "cell_type": "markdown",
   "metadata": {},
   "source": [
    "### 실습 1) 데이터 타입에 대한 이해"
   ]
  },
  {
   "cell_type": "code",
   "execution_count": 1,
   "metadata": {},
   "outputs": [
    {
     "name": "stdout",
     "output_type": "stream",
     "text": [
      "1366\n"
     ]
    }
   ],
   "source": [
    "a = 2**1000\n",
    "a2 = \"/\".join(str(a))\n",
    "alist = a2.split(\"/\")\n",
    "\n",
    "sum = 0\n",
    "for i in range(len(alist)):\n",
    "    sum += int(alist[i])\n",
    "print(sum)"
   ]
  },
  {
   "cell_type": "markdown",
   "metadata": {},
   "source": [
    "\n",
    "### <font color='blue'> 피드백 </font>\n",
    "- Good !! \n",
    "- 하하~ **jion(), split()** 함수를 지대로 사용하셨네요 ^^\n",
    "- 배웠으니깐 그냥 써 먹은거죠..ㅎㅎ"
   ]
  },
  {
   "cell_type": "code",
   "execution_count": 2,
   "metadata": {},
   "outputs": [
    {
     "data": {
      "text/plain": [
       "'1/0/7/1/5/0/8/6/0/7/1/8/6/2/6/7/3/2/0/9/4/8/4/2/5/0/4/9/0/6/0/0/0/1/8/1/0/5/6/1/4/0/4/8/1/1/7/0/5/5/3/3/6/0/7/4/4/3/7/5/0/3/8/8/3/7/0/3/5/1/0/5/1/1/2/4/9/3/6/1/2/2/4/9/3/1/9/8/3/7/8/8/1/5/6/9/5/8/5/8/1/2/7/5/9/4/6/7/2/9/1/7/5/5/3/1/4/6/8/2/5/1/8/7/1/4/5/2/8/5/6/9/2/3/1/4/0/4/3/5/9/8/4/5/7/7/5/7/4/6/9/8/5/7/4/8/0/3/9/3/4/5/6/7/7/7/4/8/2/4/2/3/0/9/8/5/4/2/1/0/7/4/6/0/5/0/6/2/3/7/1/1/4/1/8/7/7/9/5/4/1/8/2/1/5/3/0/4/6/4/7/4/9/8/3/5/8/1/9/4/1/2/6/7/3/9/8/7/6/7/5/5/9/1/6/5/5/4/3/9/4/6/0/7/7/0/6/2/9/1/4/5/7/1/1/9/6/4/7/7/6/8/6/5/4/2/1/6/7/6/6/0/4/2/9/8/3/1/6/5/2/6/2/4/3/8/6/8/3/7/2/0/5/6/6/8/0/6/9/3/7/6'"
      ]
     },
     "execution_count": 2,
     "metadata": {},
     "output_type": "execute_result"
    }
   ],
   "source": [
    "a2"
   ]
  },
  {
   "cell_type": "code",
   "execution_count": 3,
   "metadata": {},
   "outputs": [
    {
     "data": {
      "text/plain": [
       "['1', '1', '1', '7']"
      ]
     },
     "execution_count": 3,
     "metadata": {},
     "output_type": "execute_result"
    }
   ],
   "source": [
    "alist[::100]"
   ]
  },
  {
   "cell_type": "code",
   "execution_count": null,
   "metadata": {
    "collapsed": true
   },
   "outputs": [],
   "source": []
  },
  {
   "cell_type": "markdown",
   "metadata": {},
   "source": [
    "### 실습 2) 로또 번호를 주문하는 클래스를 생성하시오."
   ]
  },
  {
   "cell_type": "code",
   "execution_count": 2,
   "metadata": {
    "collapsed": true
   },
   "outputs": [],
   "source": [
    "import random\n",
    "\n",
    "class Lotto:\n",
    "\n",
    "    def __init__(self):\n",
    "        self.numl = []\n",
    "        self.numbers = set(\"0123456789\")\n",
    "        self.buy = 0   # 로또주문갯수\n",
    "        \n",
    "        # self.order_lotto()\n",
    "\n",
    "    def order_lotto(self):\n",
    "        while True:\n",
    "            buy = input(\"주문 갯수를 입력해주세요(1~10)\")\n",
    "            self.buy = buy\n",
    "            \n",
    "            if set(self.buy) - self.numbers == set():\n",
    "                if 10>=int(self.buy)>=1:\n",
    "                    self.buy = int(self.buy)\n",
    "                    print(\"주문 갯수 : %s\" % self.buy)\n",
    "                    break\n",
    "\n",
    "\n",
    "                else:\n",
    "                    print(\"1~10 사이의 숫자를 입력해주세요.\")\n",
    "                    continue\n",
    "            else:\n",
    "                print(\"1~10 사이의 숫자를 입력해주세요.\")\n",
    "                continue\n",
    "\n",
    "    def lonum(self):\n",
    "\n",
    "        for b in range(self.buy):\n",
    "            num = random.sample(range(1, 45), 6)\n",
    "            num.sort()\n",
    "            self.numl.append(num)\n",
    "            \n",
    "        # print(self.numl)\n",
    "\n",
    "    def answer(self):\n",
    "        print(\"%d개의 로또 번호\" % self.buy)\n",
    "        for i in range(len(self.numl)):\n",
    "            print(\"{1}: {2}\".format(self.buy, (i + 1), self.numl[i]))\n",
    "    \n",
    "    def order(self):\n",
    "        self.order_lotto()\n",
    "        self.lonum()\n",
    "        self.answer()\n",
    "            \n",
    "\n"
   ]
  },
  {
   "cell_type": "code",
   "execution_count": 3,
   "metadata": {
    "collapsed": true
   },
   "outputs": [],
   "source": [
    "lotto2 = Lotto()"
   ]
  },
  {
   "cell_type": "code",
   "execution_count": 4,
   "metadata": {},
   "outputs": [
    {
     "name": "stdout",
     "output_type": "stream",
     "text": [
      "주문 갯수를 입력해주세요(1~10)5\n",
      "주문 갯수 : 5\n",
      "5개의 로또 번호\n",
      "1: [2, 6, 8, 16, 23, 31]\n",
      "2: [8, 16, 23, 36, 38, 43]\n",
      "3: [5, 13, 23, 33, 35, 43]\n",
      "4: [7, 19, 21, 37, 38, 42]\n",
      "5: [1, 3, 10, 14, 18, 39]\n"
     ]
    }
   ],
   "source": [
    "lotto2.order()"
   ]
  },
  {
   "cell_type": "markdown",
   "metadata": {},
   "source": [
    "### <font color='blue'> 피드백 </font>\n",
    "- <font color='#cc0000'> Excellent ^^ </font>\n",
    "- 우와~ **객체지향기법(OOP, Object-Oriented Programming)** 을 지대로~ 구현하셨습니다. 짝짝짝~~~\n",
    "- 잘한점을 하나씩 언급하겠습니다. \n",
    "<br/> 첫째. init() 함수에 인스턴스변수로 속성변수값들을 제대로 정희하셨습니다.\n",
    "<br/> 둘째. 클래스 내의 메소드를 잘 모듈화 했습니다. : 주문입력, 로또번호생성, 주문갯수만큼출력\n",
    "<br/> 셋째. 마지막 order() 에서 서비스단에서 바로 호출해서 사용할 수 있도록 메소드를 프로세스순으로 잘 연결하였습니다.\n",
    "- 이 정도 구현하면, 프로젝트 바로 투입시켜두 될듯 합니다. "
   ]
  },
  {
   "cell_type": "code",
   "execution_count": null,
   "metadata": {
    "collapsed": true
   },
   "outputs": [],
   "source": []
  },
  {
   "cell_type": "markdown",
   "metadata": {},
   "source": [
    "### 실습 3) 특정 기념일로 부터 얼마나 경과되었는지 알려주는 함수를 만드시오"
   ]
  },
  {
   "cell_type": "code",
   "execution_count": 5,
   "metadata": {
    "collapsed": true
   },
   "outputs": [],
   "source": [
    "from datetime import datetime\n",
    "\n",
    "def getMemorialDay(year, month, day, mem_dat = \"기념일\", is_msg = True):\n",
    "    memdate = datetime(year, month, day)\n",
    "    today = datetime.now()\n",
    "    day1 = today - memdate\n",
    "    days = abs(day1.days)\n",
    "    days2 = format(days, \",\")\n",
    "    months = days//30\n",
    "    years = days//365\n",
    "    \n",
    "    if day1.days >0 :\n",
    "        print(\"오늘은 {0}로 부터 {1}일 경과되었고, 달수로는 {2}개월째, 연수로는 {3}년째 되었습니다!!\".format(mem_dat, days2, months, years))\n",
    "    else:\n",
    "        print(\"{0}까지는 {1}일 남았습니다!!\".format(mem_dat, days))"
   ]
  },
  {
   "cell_type": "code",
   "execution_count": 6,
   "metadata": {},
   "outputs": [
    {
     "name": "stdout",
     "output_type": "stream",
     "text": [
      "오늘은 밀레니엄일로 부터 6,878일 경과되었고, 달수로는 229개월째, 연수로는 18년째 되었습니다!!\n"
     ]
    }
   ],
   "source": [
    "getMemorialDay(2000,1,1, '밀레니엄일')"
   ]
  },
  {
   "cell_type": "code",
   "execution_count": 8,
   "metadata": {},
   "outputs": [
    {
     "name": "stdout",
     "output_type": "stream",
     "text": [
      "크리스마스까지는 55일 남았습니다!!\n"
     ]
    }
   ],
   "source": [
    "getMemorialDay(2018, 12, 25, '크리스마스', False)"
   ]
  },
  {
   "cell_type": "markdown",
   "metadata": {},
   "source": [
    "\n",
    "### <font color='blue'> 피드백 </font>\n",
    "- Good !!\n",
    "- 전반적으로 잘 했습니다만, 마지막 **is_msg 입력값**에 대해 잘못 이해한듯 합니다.\n",
    "-  if~else로 2가지로 구분하는게 아니라, \n",
    "- True 인 경우, 표준화된 출력방식으로 보여주고,\n",
    "- False 인 경우, 리턴값에 결과값을 던져주고 그 결과값으로 사용자가 지정하는데로 출력하는 용도입니다. ^^\n"
   ]
  },
  {
   "cell_type": "code",
   "execution_count": null,
   "metadata": {
    "collapsed": true
   },
   "outputs": [],
   "source": []
  },
  {
   "cell_type": "markdown",
   "metadata": {},
   "source": [
    "### 실습 4) reduce를 사용하여 히스토그램 함수를 작성하시오"
   ]
  },
  {
   "cell_type": "code",
   "execution_count": 5,
   "metadata": {
    "collapsed": true
   },
   "outputs": [],
   "source": [
    "from functools import reduce\n",
    "\n",
    "def makedic(dic, x):\n",
    "    if x in dic:\n",
    "        dic[x] +=1\n",
    "    else:\n",
    "        dic[x] = 1\n",
    "    return dic\n",
    "        "
   ]
  },
  {
   "cell_type": "code",
   "execution_count": 6,
   "metadata": {
    "collapsed": true
   },
   "outputs": [],
   "source": [
    "data = [\"cat\", \"cat\", \"cat\", \"sheep\", \"sheep\", \"duck\", \"duck\", \"duck\", \"duck\" ]\n",
    "dic = reduce(makedic, data, {})"
   ]
  },
  {
   "cell_type": "code",
   "execution_count": 7,
   "metadata": {},
   "outputs": [
    {
     "name": "stdout",
     "output_type": "stream",
     "text": [
      "출력값:  {'cat': 3, 'sheep': 2, 'duck': 4}\n",
      "cat\t===\n",
      "sheep\t==\n",
      "duck\t====\n"
     ]
    }
   ],
   "source": [
    "def histogram(dic):\n",
    "    key = list(dic.keys())\n",
    "    for i in range(len(key)):\n",
    "        print(\"{0}\\t{1}\".format(key[i], dic[key[i]]*\"=\"))\n",
    "\n",
    "print(\"출력값: \", dic)        \n",
    "histogram(dic)"
   ]
  },
  {
   "cell_type": "markdown",
   "metadata": {},
   "source": [
    "\n",
    "### <font color='blue'> 피드백 </font>\n",
    "- Not bad~ so so !!\n",
    "- 먼저  reduce()에 대해서는 이해했고, 잘 활용한 듯 합니다.\n",
    "- 하지만~~~~\n",
    "- data[] 리스트는 입력값이라고 했는데, 함수에서 입력파라메터로 받도록 하고..\n",
    "- reduce() 구문도 함수안에다가 구현했으면 훨씬 좋은 모듈이 되었을 겁니다.\n",
    "- 클래스나 함수 구현의 목적은 재사용성(reuse)이 중요한데, 실행문들이 따루 놀면 곤난합니다..\n",
    "- 실습2. 클래스 구현한 건 정말 잘하셨는데...\n",
    "- 프로젝트 바루 투입시키려고 했던거 고려해 봐야겠는데요.. ㅎㅎ\n"
   ]
  },
  {
   "cell_type": "markdown",
   "metadata": {},
   "source": [
    "<hr>\n",
    "\n",
    "# <div align='center'><font color='#0000CC'>수고하셨습니다 ! </font></div>"
   ]
  }
 ],
 "metadata": {
  "kernelspec": {
   "display_name": "Python 3",
   "language": "python",
   "name": "python3"
  },
  "language_info": {
   "codemirror_mode": {
    "name": "ipython",
    "version": 3
   },
   "file_extension": ".py",
   "mimetype": "text/x-python",
   "name": "python",
   "nbconvert_exporter": "python",
   "pygments_lexer": "ipython3",
   "version": "3.6.3"
  }
 },
 "nbformat": 4,
 "nbformat_minor": 2
}
