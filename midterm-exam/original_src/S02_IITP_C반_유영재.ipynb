{
 "cells": [
  {
   "cell_type": "markdown",
   "metadata": {},
   "source": [
    "# 실습1. 데이터 타입에 대한 이해"
   ]
  },
  {
   "cell_type": "code",
   "execution_count": 10,
   "metadata": {},
   "outputs": [],
   "source": [
    "def pos_sum(n):\n",
    "    return sum(int(i) for i in list(str(n)))"
   ]
  },
  {
   "cell_type": "code",
   "execution_count": 11,
   "metadata": {},
   "outputs": [
    {
     "data": {
      "text/plain": [
       "1366"
      ]
     },
     "execution_count": 11,
     "metadata": {},
     "output_type": "execute_result"
    }
   ],
   "source": [
    "pos_sum(2**1000)"
   ]
  },
  {
   "cell_type": "markdown",
   "metadata": {},
   "source": [
    "# 실습2. 로또번호를 주문하는 클래스(Class Lotto)를 생성"
   ]
  },
  {
   "cell_type": "code",
   "execution_count": 41,
   "metadata": {},
   "outputs": [],
   "source": [
    "import random\n",
    "\n",
    "class Lotto:\n",
    "    def __init__(self, order):\n",
    "        self.order = order\n",
    "        self.lotto_list = []\n",
    "        print('{order}개의 로또를 주문하셨습니다. 번호를 생성 함수 make_num() 을 호출해주세요'.\n",
    "             format(order = self.order))\n",
    "    \n",
    "    def make_num(self):\n",
    "        for order in range(self.order):\n",
    "            tmp = set()             # 한 개의 로또 번호를 담을 공간\n",
    "            while len(tmp) < 6:\n",
    "                tmp.add(random.randint(1,45))\n",
    "            tmp = sorted(tmp)\n",
    "            self.lotto_list.append(tmp)\n",
    "        print('{order}개의 로또 번호가 생성되었습니다. show_lotto() 함수를 호출해주세요'.\n",
    "             format(order = self.order))\n",
    "        \n",
    "    def show_lotto(self):\n",
    "        for order in range(self.order):\n",
    "            serial_num = order+1\n",
    "            print('{serial}번 로또번호\\n{num_lotto}'.\n",
    "                 format(serial = serial_num, num_lotto = self.lotto_list[order]))\n",
    "        print('\\n주문하신 로또 갯수가 맞지 않으면 OOO-OOOO으로 문의주세요. 좋은 하루 되세요~')\n",
    "    "
   ]
  },
  {
   "cell_type": "code",
   "execution_count": 42,
   "metadata": {},
   "outputs": [
    {
     "name": "stdout",
     "output_type": "stream",
     "text": [
      "7개의 로또를 주문하셨습니다. 번호를 생성 함수 make_num() 을 호출해주세요\n"
     ]
    }
   ],
   "source": [
    "lotto = Lotto(7)"
   ]
  },
  {
   "cell_type": "code",
   "execution_count": 43,
   "metadata": {},
   "outputs": [
    {
     "name": "stdout",
     "output_type": "stream",
     "text": [
      "7개의 로또 번호가 생성되었습니다. show_lotto() 함수를 호출해주세요\n"
     ]
    }
   ],
   "source": [
    "lotto.make_num()"
   ]
  },
  {
   "cell_type": "code",
   "execution_count": 44,
   "metadata": {},
   "outputs": [
    {
     "name": "stdout",
     "output_type": "stream",
     "text": [
      "1번 로또번호\n",
      "[6, 18, 23, 33, 36, 41]\n",
      "2번 로또번호\n",
      "[10, 12, 19, 34, 35, 41]\n",
      "3번 로또번호\n",
      "[24, 25, 27, 28, 34, 43]\n",
      "4번 로또번호\n",
      "[2, 9, 20, 30, 34, 39]\n",
      "5번 로또번호\n",
      "[4, 5, 11, 12, 29, 38]\n",
      "6번 로또번호\n",
      "[1, 3, 23, 30, 35, 38]\n",
      "7번 로또번호\n",
      "[2, 3, 16, 31, 39, 42]\n",
      "\n",
      "주문하신 로또 갯수가 맞지 않으면 OOO-OOOO으로 문의주세요. 좋은 하루 되세요~\n"
     ]
    }
   ],
   "source": [
    "lotto.show_lotto()"
   ]
  },
  {
   "cell_type": "markdown",
   "metadata": {},
   "source": [
    "# 실습3. 특정기념일로부터 얼마나 경과되었는지 알려주는 함수"
   ]
  },
  {
   "cell_type": "code",
   "execution_count": 74,
   "metadata": {},
   "outputs": [],
   "source": [
    "from datetime import datetime as dt\n",
    "\n",
    "def comma(number):\n",
    "    if number >= 1000 or number <= -1000:\n",
    "        return format(number, ',')\n",
    "\n",
    "def getMemorialDay(year, month, day, mem_day = '기념일', is_msg=True):\n",
    "    special_day = dt(year, month, day)\n",
    "    today = dt.today()\n",
    "    remain_day = today - special_day\n",
    "    \n",
    "    remain_day = remain_day.days\n",
    "    remain_month = remain_day//30\n",
    "    remain_year = remain_day//365\n",
    "    \n",
    "    if remain_day >= 0:\n",
    "        diff_day = comma(remain_day)\n",
    "        diff_month = comma(remain_month)\n",
    "        diff_year = comma(remain_year)\n",
    "        if is_msg:\n",
    "            print('오늘은 {mem_day}로부터 {day}일 경과되었고, 달 수로는 {month}개월째, 연 수로는 {year}년째 되었습니다!!'.\n",
    "                 format(mem_day = mem_day, day = diff_day, month = diff_month, year = diff_year))\n",
    "        else: return remain_year, remain_month, remain_day\n",
    "    \n",
    "    else:\n",
    "        diff_day = comma(-remain_day)\n",
    "        diff_month = comma(-remain_month)\n",
    "        diff_year = comma(-remain_year)\n",
    "        if is_msg:\n",
    "            print('{mem_day}까지는 {day}일 남았습니다!!'.format(mem_day = mem_day, day = diff_day))\n",
    "        else:\n",
    "            return remain_year, remain_month, remain_day"
   ]
  },
  {
   "cell_type": "code",
   "execution_count": 75,
   "metadata": {},
   "outputs": [
    {
     "name": "stdout",
     "output_type": "stream",
     "text": [
      "오늘은 세월호침몰사고일로부터 1,659일 경과되었고, 달 수로는 None개월째, 연 수로는 None년째 되었습니다!!\n"
     ]
    }
   ],
   "source": [
    "getMemorialDay(2014, 4, 16, '세월호침몰사고일')"
   ]
  },
  {
   "cell_type": "code",
   "execution_count": 76,
   "metadata": {},
   "outputs": [],
   "source": [
    "_y, _m, elapsed_day = getMemorialDay(2018, 12, 25, '크리스마스', False)"
   ]
  },
  {
   "cell_type": "code",
   "execution_count": 78,
   "metadata": {},
   "outputs": [
    {
     "data": {
      "text/plain": [
       "'크리스마스까지는 55일 남았습니다!!'"
      ]
     },
     "execution_count": 78,
     "metadata": {},
     "output_type": "execute_result"
    }
   ],
   "source": [
    "'크리스마스까지는 %d일 남았습니다!!' % -elapsed_day"
   ]
  },
  {
   "cell_type": "markdown",
   "metadata": {},
   "source": [
    "# 실습4.reduce를 활용하여 아래와 같은 Histogram 함수 작성"
   ]
  },
  {
   "cell_type": "code",
   "execution_count": 64,
   "metadata": {},
   "outputs": [],
   "source": [
    "data = [\"cat\", \"cat\", \"cat\", \"sheep\", \"sheep\", \"duck\", \"duck\", \"duck\", \"duck\" ]"
   ]
  },
  {
   "cell_type": "markdown",
   "metadata": {},
   "source": [
    " 1. 히스토그램을 그리는 함수 \n",
    "  input: {'cat': 3, 'duck': 4, 'sheep': 2} => output: 그림 \n",
    "\n",
    " 2. 리스트를 받아서, 숫자를 세는 함수\n",
    "  input: list => output: histogram dict"
   ]
  },
  {
   "cell_type": "code",
   "execution_count": 154,
   "metadata": {},
   "outputs": [],
   "source": [
    "from functools import *\n",
    "\n",
    "def count(dic, data):\n",
    "    if data in dic:\n",
    "            dic[data] += 1\n",
    "    else:\n",
    "            dic[data] = 1\n",
    "    return dic\n",
    "\n",
    "def draw_histogram(data):\n",
    "    dic = reduce(count, data, {})\n",
    "    for element in dic.keys():\n",
    "        print(element + ' '*(10-len(element)) + '='*dic[element])"
   ]
  },
  {
   "cell_type": "code",
   "execution_count": 155,
   "metadata": {
    "scrolled": false
   },
   "outputs": [
    {
     "name": "stdout",
     "output_type": "stream",
     "text": [
      "cat       ===\n",
      "sheep     ==\n",
      "duck      ====\n"
     ]
    }
   ],
   "source": [
    "draw_histogram(data)"
   ]
  },
  {
   "cell_type": "code",
   "execution_count": null,
   "metadata": {},
   "outputs": [],
   "source": []
  }
 ],
 "metadata": {
  "kernelspec": {
   "display_name": "Python 3",
   "language": "python",
   "name": "python3"
  },
  "language_info": {
   "codemirror_mode": {
    "name": "ipython",
    "version": 3
   },
   "file_extension": ".py",
   "mimetype": "text/x-python",
   "name": "python",
   "nbconvert_exporter": "python",
   "pygments_lexer": "ipython3",
   "version": "3.6.5"
  }
 },
 "nbformat": 4,
 "nbformat_minor": 2
}
