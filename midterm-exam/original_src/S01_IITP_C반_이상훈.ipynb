{
 "cells": [
  {
   "cell_type": "markdown",
   "metadata": {},
   "source": [
    "#실습1. 데이터 타입에 대한 이해 "
   ]
  },
  {
   "cell_type": "code",
   "execution_count": 25,
   "metadata": {},
   "outputs": [],
   "source": [
    "a = 2**1000"
   ]
  },
  {
   "cell_type": "code",
   "execution_count": 26,
   "metadata": {},
   "outputs": [],
   "source": [
    "a_str = str(a)"
   ]
  },
  {
   "cell_type": "code",
   "execution_count": 27,
   "metadata": {},
   "outputs": [
    {
     "name": "stdout",
     "output_type": "stream",
     "text": [
      "2704\n"
     ]
    }
   ],
   "source": [
    "sum = 0\n",
    "for i in a_str :\n",
    "    sum += int(i) \n",
    "print(sum)"
   ]
  },
  {
   "cell_type": "markdown",
   "metadata": {},
   "source": [
    "#실습2. 로또번호를 주문하는 클래스(Class Lotto)를 생성하시오 "
   ]
  },
  {
   "cell_type": "code",
   "execution_count": 24,
   "metadata": {},
   "outputs": [],
   "source": [
    "#로또는 1~10까지 주문 가능 "
   ]
  },
  {
   "cell_type": "code",
   "execution_count": 20,
   "metadata": {},
   "outputs": [],
   "source": [
    "import random\n",
    "def OrderLotto() : \n",
    "    while True : \n",
    "        amount=int(input(\"구매하고 싶은 수량을 입력하세요[1~10]\"))\n",
    "        if amount <= 10 and amount >=1 : \n",
    "            print(\"네 %d개의 로또를 드리겠습니다.\"%amount)\n",
    "            break\n",
    "        else :\n",
    "            print(\"말좀 들어라 친구야. 1~10개 라잔아 \")\n",
    "    return amount\n",
    "            "
   ]
  },
  {
   "cell_type": "code",
   "execution_count": 21,
   "metadata": {},
   "outputs": [],
   "source": [
    "#로또는 6개의 숫자로 구성되있으며 오름차순으로 정리해서 보여준다. \n",
    "#로또의 번호는 1~45 \n",
    "#한번 뽑힌 숫자는 다시 뽑힐 수 없다. "
   ]
  },
  {
   "cell_type": "code",
   "execution_count": 22,
   "metadata": {},
   "outputs": [],
   "source": [
    "#중복숫자 없이 검열\n",
    "def NotRepetition(LottoNum) :\n",
    "    LottoNum_set =set(LottoNum)\n",
    "    while len(LottoNum_set) != 6 : \n",
    "        LottoNum = sorted(random.sample(range(1,46),6))\n",
    "        LottoNum_set =set(LottoNum)\n",
    "    return LottoNum\n"
   ]
  },
  {
   "cell_type": "code",
   "execution_count": 27,
   "metadata": {},
   "outputs": [],
   "source": [
    "#주문한 갯수만큼 로또번호 뽑기 \n",
    "def MakeLotto(amount) : \n",
    "    Lotto_pack =[]\n",
    "    for i in range(amount) : \n",
    "        LottoNum = sorted(random.sample(range(1,46),6))\n",
    "        NotRepetition(LottoNum)\n",
    "        print()\n",
    "        Lotto_pack.append(LottoNum)\n",
    "    print(\"주문한 로또 %d개 나왔습니다 ^^\"%amount)\n",
    "    return Lotto_pack"
   ]
  },
  {
   "cell_type": "code",
   "execution_count": 30,
   "metadata": {},
   "outputs": [
    {
     "name": "stdout",
     "output_type": "stream",
     "text": [
      "구매하고 싶은 수량을 입력하세요[1~10]5\n",
      "네 5개의 로또를 드리겠습니다.\n",
      "주문한 로또 5개 나왔습니다 ^^\n",
      "[[1, 21, 22, 23, 40, 42], [15, 30, 34, 38, 42, 45], [3, 18, 31, 34, 38, 39], [2, 6, 10, 22, 30, 38], [3, 4, 5, 11, 16, 29]]\n"
     ]
    }
   ],
   "source": [
    "#로또 구매 시뮬레이션\n",
    "print(MakeLotto(OrderLotto()))\n",
    "\n"
   ]
  },
  {
   "cell_type": "code",
   "execution_count": 89,
   "metadata": {},
   "outputs": [
    {
     "name": "stdout",
     "output_type": "stream",
     "text": [
      "['d2a0', 'b1e0']\n"
     ]
    }
   ],
   "source": [
    "#일련번호 만들기 \n",
    "word = [\"a\",\"b\",\"c\",\"d\",\"e\"]\n",
    "\n",
    "CodeNum = 4 #원하는 일련번호 자릿수, 1당 숫자와 문자 섞여서 한개씩 짝수만가능\n",
    "Code = [] #일련번호 리스트 생성\n",
    "a = \"\"\n",
    "amount= 2\n",
    "for j in range(amount) :\n",
    "    for i in range(int(CodeNum/2)) : #\n",
    "        a += word[random.randint(0,len(word)-1)]+str(random.randint(0,len(word)-1))\n",
    "    Code.append(a)\n",
    "    a = \"\"\n",
    "print(Code)\n",
    "\n",
    "#이후에 구매한 개수 만큼 일련번호 리스트를 만들고 \n",
    "#로또번호 리스트와 1:1 대응으로 사전형 파일로 만들려 했으나 시간관계상 생략 \n",
    "\n"
   ]
  },
  {
   "cell_type": "markdown",
   "metadata": {},
   "source": [
    "실습3. 특정기념일로 부터 얼마나 경과되었는지 알려주는 함수를 만드시오. "
   ]
  },
  {
   "cell_type": "code",
   "execution_count": 99,
   "metadata": {},
   "outputs": [],
   "source": [
    "#숫자 자릿수에 맞춰서 \",\" 찍기 \n",
    "import datetime\n",
    "\n",
    "def SepThree(a) :\n",
    "    a_str=str(a)\n",
    "    a_list=list(a_str)  \n",
    "\n",
    "    #print(len(a_list))\n",
    "    #if a_str\n",
    "\n",
    "    if len(a_list)>3 : \n",
    "        #a_list.extend(\"0\")\n",
    "        a_list_reverse = a_list[::-1]\n",
    "\n",
    "        #print(a_list_reverse )\n",
    "        #print(\"-\"*20)\n",
    "        for i in range(len(a_list_reverse)) :\n",
    "            if (i)%4 == 3 : \n",
    "                a_list_reverse.insert(i,\",\")\n",
    "        #    print(a_list_reverse)\n",
    "        a_list = a_list_reverse[::-1]\n",
    "    totalday=\"\"\n",
    "    for i in a_list : \n",
    "        totalday =totalday + i\n",
    "    #print(totalday)\n",
    "    return(totalday)"
   ]
  },
  {
   "cell_type": "code",
   "execution_count": 103,
   "metadata": {},
   "outputs": [],
   "source": [
    "def getMemorialDay(y, m, d, mem_day = \"기념일\", is_msg=True) : \n",
    "    #입력한 날짜를 하나의 날짜 객체로 구성\n",
    "    Mday=datetime.date(y,m,d)\n",
    "    #현재 날짜 객체 만들기 \n",
    "    ToDay=datetime.date.today()\n",
    "\n",
    " \n",
    "    #현재 날짜와 입력한 날짜객체의 날 차이 구하기 \n",
    "    HowLong=ToDay-Mday\n",
    "\n",
    "    #Day 구하기\n",
    "    HowLongDay=HowLong.days\n",
    "\n",
    "\n",
    "    #Month 구하기 \n",
    "    HowLongMonth=int(HowLongDay/30)\n",
    "\n",
    "    #Year 구하기 \n",
    "    HowLongYear=int(HowLongMonth/12)\n",
    "    \n",
    "    if HowLongDay > 0 : \n",
    "        #과거의 기념일로부터의 경과를 체크\n",
    "        #출력문만들기 \n",
    "        output1=print(\"오늘은 {0}로부터  {1}일 경과되었고, 달 수로는 {2}개월째, 연 수로는 {3}년째 되었습니다!!\"\n",
    "                          .format(mem_day, SepThree(HowLongDay), HowLongMonth, HowLongYear))\n",
    "\n",
    "        return output1\n",
    "    else :\n",
    "        #미래의 날로부터 남은 날을 체크 \n",
    "        RemianDay = -HowLongDay\n",
    "        #print(RemianDay, type(RemianDay))\n",
    "        output1=print(\"오늘은 {0} 까지  {1}일 남았습니다! 힘내세요!\"\n",
    "                      .format(mem_day, SepThree(RemianDay)))\n",
    "\n",
    "        return output1"
   ]
  },
  {
   "cell_type": "code",
   "execution_count": 104,
   "metadata": {},
   "outputs": [
    {
     "name": "stdout",
     "output_type": "stream",
     "text": [
      "오늘은 상훈생일로부터  10,069일 경과되었고, 달 수로는 335개월째, 연 수로는 27년째 되었습니다!!\n",
      "오늘은 빙하가 다 녹는 날  까지  2,359일 남았습니다! 힘내세요!\n"
     ]
    }
   ],
   "source": [
    "getMemorialDay(1991,4,7,\"상훈생일\")\n",
    "\n",
    "getMemorialDay(2025,4,16,\"빙하가 다 녹는 날 \")"
   ]
  },
  {
   "cell_type": "markdown",
   "metadata": {},
   "source": [
    "실습4. reduce를 사용하여 히스토그램 함수르 작성하시오 "
   ]
  },
  {
   "cell_type": "code",
   "execution_count": 105,
   "metadata": {},
   "outputs": [],
   "source": [
    "from functools import *\n",
    "\n",
    "data = [\"cat\", \"cat\", \"cat\",\n",
    "        \"sheep\", \"sheep\", \"duck\", \"duck\", \"duck\", \"duck\" ]"
   ]
  },
  {
   "cell_type": "code",
   "execution_count": 106,
   "metadata": {},
   "outputs": [],
   "source": [
    "#우선 단어에 개수 구하기  \n",
    "data_set = set(data)"
   ]
  },
  {
   "cell_type": "code",
   "execution_count": 137,
   "metadata": {},
   "outputs": [
    {
     "data": {
      "text/plain": [
       "{'sheep': 1, 'cat': 1, 'duck': 1}"
      ]
     },
     "execution_count": 137,
     "metadata": {},
     "output_type": "execute_result"
    }
   ],
   "source": [
    "#딕셔너리 타입으로 key값에 고유한 값(단어)들을 넣은 후 \n",
    "#그 각 키 값에 list를 for문으로 돌려 일치하는만큼 value 값을 1씩 증가 시키게 만든다. \n",
    "\n",
    "#유니크한 워드로 사전형 변수 만들기 \n",
    "data_dict={}\n",
    "for i in data_set : \n",
    "    a={i:1}\n",
    "    data_dict.update(a)\n",
    "    \n",
    "data_dict"
   ]
  },
  {
   "cell_type": "code",
   "execution_count": 135,
   "metadata": {},
   "outputs": [],
   "source": [
    "#이제 각 사전에 벨류값을 포문으로 한개씩 불러오고\n",
    "#각 호출되는 벨류값을 for문으로 리스트에 한번 더 돌려 \n",
    "#일치할때마다 value에 +=1 을 해주면 개수를 구할 수 있다. \n",
    "#그리고 그 개수에 맞게 \"=\"를 찍는 것은 쉬운 문제 \n",
    "for i in data_set :\n",
    "    for \n",
    "    data_dict[\"cat\"] += 1"
   ]
  },
  {
   "cell_type": "code",
   "execution_count": 141,
   "metadata": {},
   "outputs": [
    {
     "ename": "KeyError",
     "evalue": "1",
     "output_type": "error",
     "traceback": [
      "\u001b[1;31m---------------------------------------------------------------------------\u001b[0m",
      "\u001b[1;31mKeyError\u001b[0m                                  Traceback (most recent call last)",
      "\u001b[1;32m<ipython-input-141-010d22594592>\u001b[0m in \u001b[0;36m<module>\u001b[1;34m()\u001b[0m\n\u001b[1;32m----> 1\u001b[1;33m \u001b[0mdata_dict\u001b[0m\u001b[1;33m[\u001b[0m\u001b[1;36m1\u001b[0m\u001b[1;33m]\u001b[0m\u001b[1;33m\u001b[0m\u001b[0m\n\u001b[0m",
      "\u001b[1;31mKeyError\u001b[0m: 1"
     ]
    }
   ],
   "source": [
    "data_dict[1]"
   ]
  },
  {
   "cell_type": "code",
   "execution_count": 147,
   "metadata": {},
   "outputs": [
    {
     "ename": "TypeError",
     "evalue": "'builtin_function_or_method' object is not iterable",
     "output_type": "error",
     "traceback": [
      "\u001b[1;31m---------------------------------------------------------------------------\u001b[0m",
      "\u001b[1;31mTypeError\u001b[0m                                 Traceback (most recent call last)",
      "\u001b[1;32m<ipython-input-147-87c835fb97e3>\u001b[0m in \u001b[0;36m<module>\u001b[1;34m()\u001b[0m\n\u001b[1;32m----> 1\u001b[1;33m \u001b[1;32mfor\u001b[0m \u001b[0mk\u001b[0m\u001b[1;33m,\u001b[0m \u001b[0mv\u001b[0m \u001b[1;32min\u001b[0m \u001b[0mdata_dict\u001b[0m\u001b[1;33m.\u001b[0m\u001b[0mitems\u001b[0m\u001b[1;33m:\u001b[0m\u001b[1;33m\u001b[0m\u001b[0m\n\u001b[0m\u001b[0;32m      2\u001b[0m     \u001b[0mprint\u001b[0m\u001b[1;33m(\u001b[0m\u001b[1;34m\"rne\"\u001b[0m\u001b[1;33m)\u001b[0m\u001b[1;33m\u001b[0m\u001b[0m\n",
      "\u001b[1;31mTypeError\u001b[0m: 'builtin_function_or_method' object is not iterable"
     ]
    }
   ],
   "source": [
    "for k, v in data_dict.items:\n",
    "    print(\"rne\")"
   ]
  },
  {
   "cell_type": "code",
   "execution_count": null,
   "metadata": {},
   "outputs": [],
   "source": []
  }
 ],
 "metadata": {
  "kernelspec": {
   "display_name": "Python 3",
   "language": "python",
   "name": "python3"
  },
  "language_info": {
   "codemirror_mode": {
    "name": "ipython",
    "version": 3
   },
   "file_extension": ".py",
   "mimetype": "text/x-python",
   "name": "python",
   "nbconvert_exporter": "python",
   "pygments_lexer": "ipython3",
   "version": "3.6.5"
  }
 },
 "nbformat": 4,
 "nbformat_minor": 2
}
