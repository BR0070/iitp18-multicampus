
# coding: utf-8

# # 실습1) 데이터에 대한 이해

# In[135]:


def function(num):
    output = 2 ** num
    output = str(output)
    a = list(output)
    fianl = 0
    for i in a:
        fianl += int(i)
    print(fianl)

function(1000) # 답


# # 실습 3) 특정기간일로부터 얼마나 경과 되었는지

# In[3]:


from  datetime import datetime


# In[5]:


from  datetime import datetime
import locale
locale.setlocale(locale.LC_ALL, '')

def getMemorialDay(year,month,day,mem_day='기념일', is_msg = True):
        m_day = datetime(year,month,day)
        remain = today - m_day
        remain_day = remain.days
        remain_month = remain.days/30
        remain_year = remain.days/365
#         remain_day.format(remain_day, ',')
        e_dd = locale.format('%d',remain_day, 1)
#         return remain_day, remain_month, remain_year

        return '오늘은 "{}"로부터  {}일이나 지났고, 월수는 {e_mm}개월, 년수는 {e_yy}년이 지났네~!!'.format(
            mem_day,
            e_dd,
            e_mm = int(remain_month),
            e_yy = int(remain_year)
)
getMemorialDay(2014,4,16,'세월호침몰사고일')
getMemorialDay(2018,12,25,'크리스마스',False) 


# In[4]:


from  datetime import datetime
import locale
locale.setlocale(locale.LC_ALL, '')

def getMemorialDay(year,month,day,mem_day='기념일', is_msg = True):
        m_day = datetime(year,month,day)
        remain = today - m_day
        remain_day = remain.days
        remain_month = remain.days/30
        remain_year = remain.days/365
#         remain_day.format(remain_day, ',')
        e_dd = locale.format('%d',remain_day, 1)
#         return remain_day, remain_month, remain_year

        return '오늘은 "{}"로부터  {}일이나 지났고, 월수는 {e_mm}개월, 년수는 {e_yy}년이 지났네~!!'.format(
            mem_day,
            e_dd,
            e_mm = int(remain_month),
            e_yy = int(remain_year)
)
getMemorialDay(2014,4,16,'세월호침몰사고일')
reverse_remain_day = getMemorialDay(2018,12,25,'크리스마스',False)
# print("크리스마스 까지는 %d일 남았습니다.",% -reverse_reamin_day)
getMemorialDay(2018,12,25,'크리스마스',False) 


# # 실습4) reduce를 사용하여 히스토그램 함수 작성

# In[136]:


from functools import *
def draw_histogram(data):
data = ["cat", "cat", "cat", "sheep", "sheep", "duck", "duck", "duck", "duck" ]


# In[151]:


from functools import *
def count(dic, element):
    if element in dic : 
        dic[element] += 1
    else:
        dic[element] = 1
    return dic

dic = reduce(count,data ,{}) 

def draw_histogram(data):
    for i in range(dic) :
     print("=")
    
    
draw_histogram(data)

