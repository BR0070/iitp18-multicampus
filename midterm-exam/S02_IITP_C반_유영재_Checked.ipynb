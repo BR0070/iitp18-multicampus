{
 "cells": [
  {
   "cell_type": "markdown",
   "metadata": {},
   "source": [
    "# IITP18 Midterm Exam in MultiCampus"
   ]
  },
  {
   "cell_type": "markdown",
   "metadata": {},
   "source": [
    "## 제출자 : 유영재\n",
    "<hr>"
   ]
  },
  {
   "cell_type": "markdown",
   "metadata": {},
   "source": [
    "### 실습1. 데이터 타입에 대한 이해"
   ]
  },
  {
   "cell_type": "code",
   "execution_count": 3,
   "metadata": {
    "collapsed": true
   },
   "outputs": [],
   "source": [
    "def pos_sum(n):\n",
    "    return sum(int(i) for i in list(str(n)))"
   ]
  },
  {
   "cell_type": "code",
   "execution_count": 4,
   "metadata": {},
   "outputs": [
    {
     "data": {
      "text/plain": [
       "1366"
      ]
     },
     "execution_count": 4,
     "metadata": {},
     "output_type": "execute_result"
    }
   ],
   "source": [
    "pos_sum(2**1000)"
   ]
  },
  {
   "cell_type": "markdown",
   "metadata": {},
   "source": [
    "\n",
    "### <font color='blue'> 피드백 </font>\n",
    "- Awesome !! \n",
    "- 와우~ 학습했던 모든것을 활용해 한방에 해결하셨네요 !!\n",
    "- 이정도 코드를 한문장으로 할 실력이면, 최소 **중급자이상의 실력**이라고도 봅니다.\n"
   ]
  },
  {
   "cell_type": "code",
   "execution_count": null,
   "metadata": {
    "collapsed": true
   },
   "outputs": [],
   "source": []
  },
  {
   "cell_type": "markdown",
   "metadata": {},
   "source": [
    "### 실습2. 로또번호를 주문하는 클래스(Class Lotto)를 생성"
   ]
  },
  {
   "cell_type": "code",
   "execution_count": 5,
   "metadata": {
    "collapsed": true
   },
   "outputs": [],
   "source": [
    "import random\n",
    "\n",
    "class Lotto:\n",
    "    def __init__(self, order):\n",
    "        self.order = order\n",
    "        self.lotto_list = []\n",
    "        print('{order}개의 로또를 주문하셨습니다. 번호를 생성 함수 make_num() 을 호출해주세요'.\n",
    "             format(order = self.order))\n",
    "    \n",
    "    def make_num(self):\n",
    "        for order in range(self.order):\n",
    "            tmp = set()             # 한 개의 로또 번호를 담을 공간\n",
    "            while len(tmp) < 6:\n",
    "                tmp.add(random.randint(1,45))\n",
    "            tmp = sorted(tmp)\n",
    "            self.lotto_list.append(tmp)\n",
    "        print('{order}개의 로또 번호가 생성되었습니다. show_lotto() 함수를 호출해주세요'.\n",
    "             format(order = self.order))\n",
    "        \n",
    "    def show_lotto(self):\n",
    "        for order in range(self.order):\n",
    "            serial_num = order+1\n",
    "            print('{serial}번 로또번호\\n{num_lotto}'.\n",
    "                 format(serial = serial_num, num_lotto = self.lotto_list[order]))\n",
    "        print('\\n주문하신 로또 갯수가 맞지 않으면 OOO-OOOO으로 문의주세요. 좋은 하루 되세요~')\n",
    "    "
   ]
  },
  {
   "cell_type": "code",
   "execution_count": 6,
   "metadata": {},
   "outputs": [
    {
     "name": "stdout",
     "output_type": "stream",
     "text": [
      "7개의 로또를 주문하셨습니다. 번호를 생성 함수 make_num() 을 호출해주세요\n"
     ]
    }
   ],
   "source": [
    "lotto = Lotto(7)"
   ]
  },
  {
   "cell_type": "code",
   "execution_count": 7,
   "metadata": {},
   "outputs": [
    {
     "name": "stdout",
     "output_type": "stream",
     "text": [
      "7개의 로또 번호가 생성되었습니다. show_lotto() 함수를 호출해주세요\n"
     ]
    }
   ],
   "source": [
    "lotto.make_num()"
   ]
  },
  {
   "cell_type": "code",
   "execution_count": 8,
   "metadata": {},
   "outputs": [
    {
     "name": "stdout",
     "output_type": "stream",
     "text": [
      "1번 로또번호\n",
      "[21, 22, 23, 24, 40, 41]\n",
      "2번 로또번호\n",
      "[11, 12, 15, 18, 34, 37]\n",
      "3번 로또번호\n",
      "[9, 16, 18, 20, 37, 38]\n",
      "4번 로또번호\n",
      "[7, 9, 11, 14, 24, 44]\n",
      "5번 로또번호\n",
      "[6, 8, 12, 21, 34, 37]\n",
      "6번 로또번호\n",
      "[6, 15, 20, 26, 31, 32]\n",
      "7번 로또번호\n",
      "[9, 10, 24, 29, 30, 38]\n",
      "\n",
      "주문하신 로또 갯수가 맞지 않으면 OOO-OOOO으로 문의주세요. 좋은 하루 되세요~\n"
     ]
    }
   ],
   "source": [
    "lotto.show_lotto()"
   ]
  },
  {
   "cell_type": "markdown",
   "metadata": {},
   "source": [
    "\n",
    "### <font color='blue'> 피드백 </font>\n",
    "- Not bad !!\n",
    "- 전반적으로 로직은 잘 이해하셨고, 모듈을 구현할 때 조금 더 구체적으로 나누시면 더 좋은 코드가 될듯 합니다.\n",
    "- 다른 학생들에게 커멘트해준 코드중에 좋은 코드가 있으니 나중에 비교해보시길 바랍니다."
   ]
  },
  {
   "cell_type": "code",
   "execution_count": null,
   "metadata": {
    "collapsed": true
   },
   "outputs": [],
   "source": []
  },
  {
   "cell_type": "markdown",
   "metadata": {},
   "source": [
    "### 실습3. 특정기념일로부터 얼마나 경과되었는지 알려주는 함수"
   ]
  },
  {
   "cell_type": "code",
   "execution_count": 10,
   "metadata": {
    "collapsed": true
   },
   "outputs": [],
   "source": [
    "from datetime import datetime as dt\n",
    "\n",
    "def comma(number):\n",
    "    if number >= 1000 or number <= -1000:\n",
    "        return format(number, ',')\n",
    "\n",
    "def getMemorialDay(year, month, day, mem_day = '기념일', is_msg=True):\n",
    "    special_day = dt(year, month, day)\n",
    "    today = dt.today()\n",
    "    remain_day = today - special_day\n",
    "    \n",
    "    remain_day = remain_day.days\n",
    "    remain_month = remain_day//30\n",
    "    remain_year = remain_day//365\n",
    "    \n",
    "    if remain_day >= 0:\n",
    "        diff_day = comma(remain_day)\n",
    "        diff_month = comma(remain_month)\n",
    "        diff_year = comma(remain_year)\n",
    "        if is_msg:\n",
    "            print('오늘은 {mem_day}로부터 {day}일 경과되었고, 달 수로는 {month}개월째, 연 수로는 {year}년째 되었습니다!!'.\n",
    "                 format(mem_day = mem_day, day = diff_day, month = diff_month, year = diff_year))\n",
    "        else: return remain_year, remain_month, remain_day\n",
    "    \n",
    "    else:\n",
    "        diff_day = comma(-remain_day)\n",
    "        diff_month = comma(-remain_month)\n",
    "        diff_year = comma(-remain_year)\n",
    "        if is_msg:\n",
    "            print('{mem_day}까지는 {day}일 남았습니다!!'.format(mem_day = mem_day, day = diff_day))\n",
    "        else:\n",
    "            return remain_year, remain_month, remain_day"
   ]
  },
  {
   "cell_type": "code",
   "execution_count": 11,
   "metadata": {},
   "outputs": [
    {
     "name": "stdout",
     "output_type": "stream",
     "text": [
      "오늘은 세월호침몰사고일로부터 1,659일 경과되었고, 달 수로는 None개월째, 연 수로는 None년째 되었습니다!!\n"
     ]
    }
   ],
   "source": [
    "getMemorialDay(2014, 4, 16, '세월호침몰사고일')"
   ]
  },
  {
   "cell_type": "code",
   "execution_count": 12,
   "metadata": {
    "collapsed": true
   },
   "outputs": [],
   "source": [
    "_y, _m, elapsed_day = getMemorialDay(2018, 12, 25, '크리스마스', False)"
   ]
  },
  {
   "cell_type": "code",
   "execution_count": 13,
   "metadata": {
    "scrolled": true
   },
   "outputs": [
    {
     "data": {
      "text/plain": [
       "'크리스마스까지는 55일 남았습니다!!'"
      ]
     },
     "execution_count": 13,
     "metadata": {},
     "output_type": "execute_result"
    }
   ],
   "source": [
    "'크리스마스까지는 %d일 남았습니다!!' % -elapsed_day"
   ]
  },
  {
   "cell_type": "markdown",
   "metadata": {},
   "source": [
    "\n",
    "### <font color='blue'> 피드백 </font>\n",
    "- Good !!\n",
    "- 전반적으로 잘 했습니다만, 딱 한가지 눈에 거슬리는게 있습니다. 바로 리턴부분 !!!\n",
    "- IF~ELSE 에 동일한 return 부분이 있는데, 중복되어 있죠. \n",
    "- 경우에 따라 출력값이 다를때는 예외인경우도 있습니다만, \n",
    "- 가능하면 **return 부분은 맨 마지막부분에 구현**하는게 좋은 코드입니다."
   ]
  },
  {
   "cell_type": "code",
   "execution_count": null,
   "metadata": {
    "collapsed": true
   },
   "outputs": [],
   "source": []
  },
  {
   "cell_type": "markdown",
   "metadata": {},
   "source": [
    "### 실습4.reduce를 활용하여 아래와 같은 Histogram 함수 작성"
   ]
  },
  {
   "cell_type": "code",
   "execution_count": 15,
   "metadata": {
    "collapsed": true
   },
   "outputs": [],
   "source": [
    "data = [\"cat\", \"cat\", \"cat\", \"sheep\", \"sheep\", \"duck\", \"duck\", \"duck\", \"duck\" ]"
   ]
  },
  {
   "cell_type": "markdown",
   "metadata": {},
   "source": [
    " 1. 히스토그램을 그리는 함수 \n",
    "  input: {'cat': 3, 'duck': 4, 'sheep': 2} => output: 그림 \n",
    "\n",
    " 2. 리스트를 받아서, 숫자를 세는 함수\n",
    "  input: list => output: histogram dict"
   ]
  },
  {
   "cell_type": "code",
   "execution_count": 16,
   "metadata": {
    "collapsed": true
   },
   "outputs": [],
   "source": [
    "from functools import *\n",
    "\n",
    "def count(dic, data):\n",
    "    if data in dic:\n",
    "            dic[data] += 1\n",
    "    else:\n",
    "            dic[data] = 1\n",
    "    return dic\n",
    "\n",
    "def draw_histogram(data):\n",
    "    dic = reduce(count, data, {})\n",
    "    for element in dic.keys():\n",
    "        print(element + ' '*(10-len(element)) + '='*dic[element])"
   ]
  },
  {
   "cell_type": "code",
   "execution_count": 17,
   "metadata": {
    "scrolled": false
   },
   "outputs": [
    {
     "name": "stdout",
     "output_type": "stream",
     "text": [
      "cat       ===\n",
      "sheep     ==\n",
      "duck      ====\n"
     ]
    }
   ],
   "source": [
    "draw_histogram(data)"
   ]
  },
  {
   "cell_type": "markdown",
   "metadata": {},
   "source": [
    "\n",
    "### <font color='blue'> 피드백 </font>\n",
    "- Good !!\n",
    "- reduce부분을 제대로 이해한것 같고, 잘 구현했습니다.\n",
    "- 다만 **변수이름 data가 중복으로 사용**되는데, 코드를 이해하는데 오해의 소지가 있을수 있습니다.\n",
    "- 즉, reduce 안의 data는 입력값(list)이고, count 함수의 data는 입력값중 하나(element)입니다. \n",
    "- 그래서, 좀더 데이터특성에 맞게 이름을 바꿔주면 훨씬 좋은 코드가 될듯 합니다.\n",
    "- 아래와 같이 변경했으니 참조해보세요 !!"
   ]
  },
  {
   "cell_type": "code",
   "execution_count": 18,
   "metadata": {
    "collapsed": true
   },
   "outputs": [],
   "source": [
    "from functools import *\n",
    "\n",
    "def count(result_dic, element):\n",
    "    if element in result_dic:\n",
    "        result_dic[element] += 1\n",
    "    else:\n",
    "        result_dic[element] = 1\n",
    "    return result_dic\n",
    "\n",
    "def draw_histogram(input_data):\n",
    "    dic = reduce(count, input_data, {})\n",
    "    for key in dic.keys():\n",
    "        print(key + ' '*(10-len(key)) + '='*dic[key])"
   ]
  },
  {
   "cell_type": "code",
   "execution_count": 19,
   "metadata": {},
   "outputs": [
    {
     "name": "stdout",
     "output_type": "stream",
     "text": [
      "cat       ===\n",
      "sheep     ==\n",
      "duck      ====\n"
     ]
    }
   ],
   "source": [
    "draw_histogram(data)"
   ]
  },
  {
   "cell_type": "markdown",
   "metadata": {},
   "source": [
    "<hr>\n",
    "\n",
    "# <div align='center'><font color='#0000CC'>수고하셨습니다 ! </font></div>"
   ]
  }
 ],
 "metadata": {
  "kernelspec": {
   "display_name": "Python 3",
   "language": "python",
   "name": "python3"
  },
  "language_info": {
   "codemirror_mode": {
    "name": "ipython",
    "version": 3
   },
   "file_extension": ".py",
   "mimetype": "text/x-python",
   "name": "python",
   "nbconvert_exporter": "python",
   "pygments_lexer": "ipython3",
   "version": "3.6.3"
  }
 },
 "nbformat": 4,
 "nbformat_minor": 2
}
